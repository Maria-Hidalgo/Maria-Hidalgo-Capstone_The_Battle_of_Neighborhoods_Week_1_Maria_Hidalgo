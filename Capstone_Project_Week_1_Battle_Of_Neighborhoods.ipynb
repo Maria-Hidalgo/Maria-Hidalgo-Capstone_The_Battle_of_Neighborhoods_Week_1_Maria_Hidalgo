{
 "cells": [
  {
   "cell_type": "markdown",
   "metadata": {},
   "source": [
    "<a href=\"https://geo.nyu.edu/catalog/nyu_2451_34572?cm_mmc=Email_Newsletter-_-Developer_Ed%2BTech-_-WW_WW-_-SkillsNetwork-Courses-IBMDeveloperSkillsNetwork-DS0701EN-SkillsNetwork-21253531&cm_mmca1=000026UJ&cm_mmca2=10006555&cm_mmca3=M12345678&cvosrc=email.Newsletter.M12345678&cvo_campaign=000026UJ&cm_mmc=Email_Newsletter-_-Developer_Ed%2BTech-_-WW_WW-_-SkillsNetwork-Courses-IBMDeveloperSkillsNetwork-DS0701EN-SkillsNetwork-21253531&cm_mmca1=000026UJ&cm_mmca2=10006555&cm_mmca3=M12345678&cvosrc=email.Newsletter.M12345678&cvo_campaign=000026UJ\"><img src = \"https://media12.s-nbcnews.com/i/MSNBC/Components/Video/202003/f_mash_usnscomfort_200330_1920x1080.jpg\" align=center width = 1200> </a>"
   ]
  },
  {
   "cell_type": "markdown",
   "metadata": {},
   "source": [
    "### Applied Data Science Capstone Final Project (The Battle of Neighborhoods - Week 1) \n",
    "   \n",
    "### Zooming in: Finding the best location for a Hospital with a Development and Research Center in New York City after COVID-19 pandemic.\n",
    "  \n",
    "### Created by: Maria Hidalgo"
   ]
  },
  {
   "cell_type": "markdown",
   "metadata": {},
   "source": [
    "### Introduction\n",
    "\n",
    "<p style=\"text-align:justify\"> COVID-19 is one of the worst pandemics the world has faced. There have been 80,155,187 confirmed cases, including 1,771,128 deaths, notified to the WHO at the end of 2020. These figures show how poorly prepared we are to face this type of problem. Many hospitals collapsed from the large number of patients arriving every hour, and some cities were hit harder than others. With this outlook came the idea of using the tools learned in this course <strong> to find the best location to build a Hospital that includes a development and research center in one of the most affected cities in the world during this pandemic, such as New York City.</strong> </p>\n"
   ]
  },
  {
   "cell_type": "markdown",
   "metadata": {},
   "source": [
    "\n",
    "### Data and Methodology\n",
    "\n",
    "<p style=\"text-align:justify\"> The data to be used will be obtained from the following web address: https://geo.nyu.edu/catalog/nyu_2451_34572.\n",
    "This data has a total of 5 boroughs and 306 neighborhoods from NYC. Also has the latitude and logitude coordinates of each neighborhood. </p>\n",
    "\n",
    "<p style=\"text-align:justify\"> I will convert addresses into their equivalent latitude and longitude values best fit to build the Hospital and the Development and Research Center (H&DRC). Also, I will use the Foursquare API to explore neighborhoods most affected by COVID-19 in New York City. I will use the explore function to get the most common venue categories in each neighborhood, and then use this feature to group the neighborhoods into clusters. I will use the _k_-means clustering algorithm to complete this task. Finally, I will use the Folium library to visualize the neighborhoods in New York City and their emerging clusters.</p>\n"
   ]
  },
  {
   "cell_type": "markdown",
   "metadata": {},
   "source": [
    "### Problem Statement \n",
    "\n",
    "<p style=\"text-align:justify\"> \n",
    "What is the best location to build the H&DRC in NYC based on post-pandemic needs? In what neighborhood should the autorities or organization open the H&DRC?\n",
    "</p>\n"
   ]
  },
  {
   "cell_type": "code",
   "execution_count": null,
   "metadata": {},
   "outputs": [],
   "source": []
  }
 ],
 "metadata": {
  "kernelspec": {
   "display_name": "Python",
   "language": "python",
   "name": "conda-env-python-py"
  },
  "language_info": {
   "codemirror_mode": {
    "name": "ipython",
    "version": 3
   },
   "file_extension": ".py",
   "mimetype": "text/x-python",
   "name": "python",
   "nbconvert_exporter": "python",
   "pygments_lexer": "ipython3",
   "version": "3.6.12"
  }
 },
 "nbformat": 4,
 "nbformat_minor": 4
}
